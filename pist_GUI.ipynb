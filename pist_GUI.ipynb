{
 "cells": [
  {
   "cell_type": "code",
   "execution_count": 13,
   "id": "db0dcf2d",
   "metadata": {},
   "outputs": [],
   "source": [
    "from tkinter import *\n",
    "from tkinter import messagebox\n",
    "import numpy as np\n",
    "import matplotlib.pyplot as plt\n",
    "import joblib\n",
    "import pandas as pd\n",
    "import warnings\n",
    "warnings.filterwarnings('ignore')\n",
    "from sklearn.linear_model import LogisticRegression"
   ]
  },
  {
   "cell_type": "code",
   "execution_count": 14,
   "id": "8abbfde7",
   "metadata": {},
   "outputs": [],
   "source": [
    "df=pd.read_csv('Pistachio_28_Features_Dataset.csv')\n",
    "x=df[['Area','Perimeter','Major_Axis','Minor_Axis','Roundness']]\n",
    "y=df['Class']"
   ]
  },
  {
   "cell_type": "code",
   "execution_count": 16,
   "id": "082f220a",
   "metadata": {},
   "outputs": [],
   "source": [
    "top = Tk()\n",
    "logreg=LogisticRegression()\n",
    "logreg.fit(x,y)\n",
    "joblib.dump(logreg,'loreg.model')\n",
    "top.title('Pistachio Image Classification System')\n",
    "top.geometry(\"900x500\")\n",
    "top.resizable(0, 0)\n",
    "\n",
    "def check():\n",
    "    global a, b, c, d, e\n",
    "    new = np.array([[a.get(), b.get(), c.get(), d.get(), e.get()]])\n",
    "    new = pd.DataFrame({\n",
    "        'Area':[a.get()], \n",
    "        'Perimeter':[b.get()], \n",
    "        'Major_Axis':[c.get()], \n",
    "        'Minor_Axis':[d.get()],\n",
    "        'Roundness': [e.get()]\n",
    "    })\n",
    "    \n",
    "    y_pred = logreg.predict(new)\n",
    "    if y_pred[0] == 'Kirmizi_Pistachio':\n",
    "        messagebox.showinfo('Result','Kirmizi_Pistachio')\n",
    "    elif y_pred[0] == 'Siirt_Pistachio':\n",
    "        messagebox.showinfo('Result','Siirt_Pistachio')\n",
    "\n",
    "a = DoubleVar()\n",
    "b = DoubleVar()\n",
    "c = DoubleVar()\n",
    "d = DoubleVar()\n",
    "e = DoubleVar()\n",
    "\n",
    "Label(top, text=\"Pistachio Image Classification System\", \n",
    "      font=('Ubuntu', 25)).place(x=120,y=30)\n",
    "Label(top, text=\"Area:\", \n",
    "      font=('courier', 16)).place(x=20,y=100)\n",
    "Entry(top, textvariable=a, font=('courier', 16)).place(x=280,y=100)\n",
    "Label(top, text=\"Perimeter:\", font=('courier', 16)).place(x=20,y=150)\n",
    "Entry(top, textvariable=b, font=('courier', 16)).place(x=280,y=150)\n",
    "Label(top, text=\"Major_Axis:\", font=('courier', 16)).place(x=20,y=200)\n",
    "Entry(top, textvariable=c, font=('courier', 16)).place(x=280,y=200)\n",
    "Label(top, text=\"Minor_Axis:\",font=('courier', 16)).place(x=20,y=250)\n",
    "Entry(top, textvariable=d, font=('courier', 16)).place(x=280,y=250)\n",
    "Label(top, text=\"Roundness:\", font=('courier', 16)).place(x=20,y=300)\n",
    "Entry(top, textvariable=e, font=('courier', 16)).place(x=280,y=300)\n",
    "\n",
    "Button(top, text=\"--Check--\", \n",
    "  font=('courier', 16, 'bold'), command=check).place(x=250,y=400)\n",
    "\n",
    "top.mainloop()"
   ]
  },
  {
   "cell_type": "code",
   "execution_count": null,
   "id": "c831970b",
   "metadata": {},
   "outputs": [],
   "source": []
  }
 ],
 "metadata": {
  "kernelspec": {
   "display_name": "Python 3 (ipykernel)",
   "language": "python",
   "name": "python3"
  },
  "language_info": {
   "codemirror_mode": {
    "name": "ipython",
    "version": 3
   },
   "file_extension": ".py",
   "mimetype": "text/x-python",
   "name": "python",
   "nbconvert_exporter": "python",
   "pygments_lexer": "ipython3",
   "version": "3.11.4"
  }
 },
 "nbformat": 4,
 "nbformat_minor": 5
}
